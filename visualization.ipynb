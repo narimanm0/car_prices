{
 "cells": [
  {
   "cell_type": "code",
   "execution_count": null,
   "id": "8969eb75",
   "metadata": {},
   "outputs": [],
   "source": [
    "import os\n",
    "import pandas as pd\n",
    "import matplotlib.pyplot as plt\n",
    "import seaborn as sns\n",
    "from config.config import OUTPUT_CSV_FILE, CLEANED_CSV_FILE\n",
    "\n",
    "sns.set(style=\"whitegrid\")\n",
    "\n",
    "# Load data\n",
    "df = pd.read_csv(CLEANED_CSV_FILE)\n",
    "print(\"Data loaded successfully.\\n\")"
   ]
  }
 ],
 "metadata": {
  "language_info": {
   "name": "python"
  }
 },
 "nbformat": 4,
 "nbformat_minor": 5
}
